{
 "cells": [
  {
   "cell_type": "code",
   "execution_count": 1,
   "id": "d6b60fec-3e00-4b0e-b91f-20d6a2823eb7",
   "metadata": {},
   "outputs": [],
   "source": [
    "import cv2\n",
    "import mediapipe as mp\n",
    "import pandas as pd\n",
    "import time\n"
   ]
  },
  {
   "cell_type": "code",
   "execution_count": 2,
   "id": "0609f3b6-44c8-4b60-8dd8-55852ea659b6",
   "metadata": {},
   "outputs": [],
   "source": [
    "mp_pose = mp.solutions.pose"
   ]
  },
  {
   "cell_type": "code",
   "execution_count": 3,
   "id": "b988ad72-a32c-475c-a438-700927842365",
   "metadata": {},
   "outputs": [],
   "source": [
    "pose = mp_pose.Pose()\n",
    "mp_drawing = mp.solutions.drawing_utils"
   ]
  },
  {
   "cell_type": "code",
   "execution_count": 4,
   "id": "f10593ad-ab99-46b1-bd2b-b781a13783a3",
   "metadata": {},
   "outputs": [],
   "source": [
    "cap = cv2.VideoCapture(0)  # or use your image/video\n",
    "\n",
    "all_data = []"
   ]
  },
  {
   "cell_type": "code",
   "execution_count": 5,
   "id": "f6e37866-82d7-40d3-b5ef-a322188d9a8a",
   "metadata": {},
   "outputs": [],
   "source": [
    "while True:\n",
    "    ret, frame = cap.read()\n",
    "    if not ret:\n",
    "        break\n",
    "\n",
    "    # Convert to RGB\n",
    "    rgb = cv2.cvtColor(frame, cv2.COLOR_BGR2RGB)\n",
    "    results = pose.process(rgb)\n",
    "\n",
    "    if results.pose_landmarks:\n",
    "        mp_drawing.draw_landmarks(frame, results.pose_landmarks, mp_pose.POSE_CONNECTIONS)\n",
    "\n",
    "        # Confidence calculation\n",
    "        confidences = [landmark.visibility for landmark in results.pose_landmarks.landmark]\n",
    "        avg_confidence = sum(confidences) / len(confidences)\n",
    "\n",
    "         # Calculate accuracy in percentage\n",
    "        accuracy_percentage = avg_confidence * 100  # Multiply by 100 to get percentage\n",
    "\n",
    "        # Save timestamp and accuracy\n",
    "        data = {\n",
    "            'timestamp': time.time(),\n",
    "            'avg_confidence': avg_confidence,\n",
    "            'accuracy_percentage': accuracy_percentage\n",
    "        }\n",
    "        all_data.append(data)\n",
    "    \n",
    "        # Display Confidence and Accuracy on the frame\n",
    "        cv2.putText(frame, f'Confidence: {avg_confidence:.2f}', (10, 30),\n",
    "                    cv2.FONT_HERSHEY_SIMPLEX, 0.8, (0, 255, 0), 2)\n",
    "        cv2.putText(frame, f'Accuracy: {accuracy_percentage:.2f}%', (10, 60),\n",
    "                    cv2.FONT_HERSHEY_SIMPLEX, 0.8, (0, 255, 0), 2)\n",
    "\n",
    "    cv2.imshow(\"Pose Detection\", frame)\n",
    "\n",
    "    if cv2.waitKey(1) & 0xFF == 27:  # ESC to exit\n",
    "        break\n",
    "\n",
    "cap.release()\n",
    "cv2.destroyAllWindows()"
   ]
  },
  {
   "cell_type": "code",
   "execution_count": 6,
   "id": "c5db7bee-98fa-44d6-a890-c48a6888ba3c",
   "metadata": {},
   "outputs": [
    {
     "name": "stdout",
     "output_type": "stream",
     "text": [
      "✅ Accuracy data saved to pose_accuracy.csv\n"
     ]
    }
   ],
   "source": [
    "# Save results to CSV\n",
    "df = pd.DataFrame(all_data)\n",
    "df.to_csv(\"pose_accuracy.csv\", index=False)\n",
    "print(\"✅ Accuracy data saved to pose_accuracy.csv\")\n"
   ]
  },
  {
   "cell_type": "code",
   "execution_count": 7,
   "id": "81fa7d1e-a5d6-4267-b0e0-9ce78a08a142",
   "metadata": {},
   "outputs": [
    {
     "data": {
      "text/html": [
       "<div>\n",
       "<style scoped>\n",
       "    .dataframe tbody tr th:only-of-type {\n",
       "        vertical-align: middle;\n",
       "    }\n",
       "\n",
       "    .dataframe tbody tr th {\n",
       "        vertical-align: top;\n",
       "    }\n",
       "\n",
       "    .dataframe thead th {\n",
       "        text-align: right;\n",
       "    }\n",
       "</style>\n",
       "<table border=\"1\" class=\"dataframe\">\n",
       "  <thead>\n",
       "    <tr style=\"text-align: right;\">\n",
       "      <th></th>\n",
       "      <th>timestamp</th>\n",
       "      <th>avg_confidence</th>\n",
       "      <th>accuracy_percentage</th>\n",
       "    </tr>\n",
       "  </thead>\n",
       "  <tbody>\n",
       "    <tr>\n",
       "      <th>0</th>\n",
       "      <td>1.744527e+09</td>\n",
       "      <td>0.541796</td>\n",
       "      <td>54.179559</td>\n",
       "    </tr>\n",
       "    <tr>\n",
       "      <th>1</th>\n",
       "      <td>1.744527e+09</td>\n",
       "      <td>0.541272</td>\n",
       "      <td>54.127185</td>\n",
       "    </tr>\n",
       "    <tr>\n",
       "      <th>2</th>\n",
       "      <td>1.744527e+09</td>\n",
       "      <td>0.540865</td>\n",
       "      <td>54.086485</td>\n",
       "    </tr>\n",
       "    <tr>\n",
       "      <th>3</th>\n",
       "      <td>1.744527e+09</td>\n",
       "      <td>0.536526</td>\n",
       "      <td>53.652633</td>\n",
       "    </tr>\n",
       "    <tr>\n",
       "      <th>4</th>\n",
       "      <td>1.744527e+09</td>\n",
       "      <td>0.536336</td>\n",
       "      <td>53.633561</td>\n",
       "    </tr>\n",
       "    <tr>\n",
       "      <th>...</th>\n",
       "      <td>...</td>\n",
       "      <td>...</td>\n",
       "      <td>...</td>\n",
       "    </tr>\n",
       "    <tr>\n",
       "      <th>73</th>\n",
       "      <td>1.744527e+09</td>\n",
       "      <td>0.421707</td>\n",
       "      <td>42.170731</td>\n",
       "    </tr>\n",
       "    <tr>\n",
       "      <th>74</th>\n",
       "      <td>1.744527e+09</td>\n",
       "      <td>0.420815</td>\n",
       "      <td>42.081497</td>\n",
       "    </tr>\n",
       "    <tr>\n",
       "      <th>75</th>\n",
       "      <td>1.744527e+09</td>\n",
       "      <td>0.420984</td>\n",
       "      <td>42.098357</td>\n",
       "    </tr>\n",
       "    <tr>\n",
       "      <th>76</th>\n",
       "      <td>1.744527e+09</td>\n",
       "      <td>0.420949</td>\n",
       "      <td>42.094864</td>\n",
       "    </tr>\n",
       "    <tr>\n",
       "      <th>77</th>\n",
       "      <td>1.744527e+09</td>\n",
       "      <td>0.421575</td>\n",
       "      <td>42.157485</td>\n",
       "    </tr>\n",
       "  </tbody>\n",
       "</table>\n",
       "<p>78 rows × 3 columns</p>\n",
       "</div>"
      ],
      "text/plain": [
       "       timestamp  avg_confidence  accuracy_percentage\n",
       "0   1.744527e+09        0.541796            54.179559\n",
       "1   1.744527e+09        0.541272            54.127185\n",
       "2   1.744527e+09        0.540865            54.086485\n",
       "3   1.744527e+09        0.536526            53.652633\n",
       "4   1.744527e+09        0.536336            53.633561\n",
       "..           ...             ...                  ...\n",
       "73  1.744527e+09        0.421707            42.170731\n",
       "74  1.744527e+09        0.420815            42.081497\n",
       "75  1.744527e+09        0.420984            42.098357\n",
       "76  1.744527e+09        0.420949            42.094864\n",
       "77  1.744527e+09        0.421575            42.157485\n",
       "\n",
       "[78 rows x 3 columns]"
      ]
     },
     "execution_count": 7,
     "metadata": {},
     "output_type": "execute_result"
    }
   ],
   "source": [
    "df"
   ]
  },
  {
   "cell_type": "code",
   "execution_count": 8,
   "id": "5fd1850a-f2aa-4805-b62e-2e2397570209",
   "metadata": {},
   "outputs": [],
   "source": [
    "import sqlite3"
   ]
  },
  {
   "cell_type": "code",
   "execution_count": 9,
   "id": "920eba7c-2965-4e82-8e3f-d01bfd02df9b",
   "metadata": {},
   "outputs": [],
   "source": [
    "# Step 1: Connect to DB\n",
    "conn = sqlite3.connect('results.db')\n",
    "cursor = conn.cursor()"
   ]
  },
  {
   "cell_type": "code",
   "execution_count": 10,
   "id": "b8f0cf7f-489e-442b-82e7-9f6d7a73cb26",
   "metadata": {},
   "outputs": [],
   "source": [
    "# Drop table if it exists\n",
    "cursor.execute(\"DROP TABLE IF EXISTS results\")\n",
    "# Step 2: Create Table (if not exists)\n",
    "\n",
    "\n",
    "# Create it with the correct structure\n",
    "cursor.execute('''\n",
    "    CREATE TABLE results (\n",
    "        id INTEGER PRIMARY KEY AUTOINCREMENT,\n",
    "        model_name TEXT,\n",
    "        avg_confidence REAL,\n",
    "        accuracy REAL\n",
    "    )\n",
    "''')\n",
    "\n",
    "conn.commit()\n"
   ]
  },
  {
   "cell_type": "code",
   "execution_count": 11,
   "id": "0b738bcf-4901-4671-819c-903abbdd91c9",
   "metadata": {},
   "outputs": [],
   "source": [
    "#cursor.execute(\"INSERT INTO Pose_detection (model_name, accuracy) VALUES (?, ?)\", (\"Pose Detection\", accuracy_percentage))\n",
    "#conn.commit()\n",
    "#avg_confidence = df[\"avg_confidence\"].mean()\n",
    "\n",
    "for accuracy in df[\"accuracy_percentage\"]:\n",
    "    cursor.execute(\n",
    "        \"INSERT INTO results (model_name, avg_confidence, accuracy) VALUES (?, ?, ?)\",\n",
    "        (\"Pose Detection\", avg_confidence, accuracy)\n",
    "    )\n",
    "\n",
    "conn.commit()\n",
    "\n"
   ]
  },
  {
   "cell_type": "code",
   "execution_count": 12,
   "id": "5601f5e5-bc41-4439-8143-fd46f3c4a5d1",
   "metadata": {
    "scrolled": true
   },
   "outputs": [
    {
     "name": "stdout",
     "output_type": "stream",
     "text": [
      "(1, 'Pose Detection', 0.4215748548389952, 54.179559236669746)\n",
      "(2, 'Pose Detection', 0.4215748548389952, 54.12718470481306)\n",
      "(3, 'Pose Detection', 0.4215748548389952, 54.08648537777481)\n",
      "(4, 'Pose Detection', 0.4215748548389952, 53.65263317818806)\n",
      "(5, 'Pose Detection', 0.4215748548389952, 53.63356135970786)\n",
      "(6, 'Pose Detection', 0.4215748548389952, 53.5991848568246)\n",
      "(7, 'Pose Detection', 0.4215748548389952, 53.41323228578514)\n",
      "(8, 'Pose Detection', 0.4215748548389952, 53.194305499456476)\n",
      "(9, 'Pose Detection', 0.4215748548389952, 53.31876533285443)\n",
      "(10, 'Pose Detection', 0.4215748548389952, 53.413731087582136)\n",
      "(11, 'Pose Detection', 0.4215748548389952, 53.25594791813108)\n",
      "(12, 'Pose Detection', 0.4215748548389952, 53.08755326083029)\n",
      "(13, 'Pose Detection', 0.4215748548389952, 53.16175373485418)\n",
      "(14, 'Pose Detection', 0.4215748548389952, 53.38011467747768)\n",
      "(15, 'Pose Detection', 0.4215748548389952, 53.46445252492258)\n",
      "(16, 'Pose Detection', 0.4215748548389952, 53.34543751430994)\n",
      "(17, 'Pose Detection', 0.4215748548389952, 53.280721332328426)\n",
      "(18, 'Pose Detection', 0.4215748548389952, 53.41186673092923)\n",
      "(19, 'Pose Detection', 0.4215748548389952, 53.27500959426812)\n",
      "(20, 'Pose Detection', 0.4215748548389952, 53.23308881757619)\n",
      "(21, 'Pose Detection', 0.4215748548389952, 53.160243228414785)\n",
      "(22, 'Pose Detection', 0.4215748548389952, 53.05413439285379)\n",
      "(23, 'Pose Detection', 0.4215748548389952, 52.89164884567127)\n",
      "(24, 'Pose Detection', 0.4215748548389952, 52.873185260515044)\n",
      "(25, 'Pose Detection', 0.4215748548389952, 52.747003232820354)\n",
      "(26, 'Pose Detection', 0.4215748548389952, 52.62242280725993)\n",
      "(27, 'Pose Detection', 0.4215748548389952, 52.47326253190818)\n",
      "(28, 'Pose Detection', 0.4215748548389952, 52.08670301984636)\n",
      "(29, 'Pose Detection', 0.4215748548389952, 51.62984910192873)\n",
      "(30, 'Pose Detection', 0.4215748548389952, 51.79089349228227)\n",
      "(31, 'Pose Detection', 0.4215748548389952, 51.86627213801275)\n",
      "(32, 'Pose Detection', 0.4215748548389952, 51.24807639900113)\n",
      "(33, 'Pose Detection', 0.4215748548389952, 51.03454867983766)\n",
      "(34, 'Pose Detection', 0.4215748548389952, 50.677194653249124)\n",
      "(35, 'Pose Detection', 0.4215748548389952, 50.9324604564454)\n",
      "(36, 'Pose Detection', 0.4215748548389952, 51.51587875009158)\n",
      "(37, 'Pose Detection', 0.4215748548389952, 52.05696420737447)\n",
      "(38, 'Pose Detection', 0.4215748548389952, 52.103976023477806)\n",
      "(39, 'Pose Detection', 0.4215748548389952, 51.008954271497764)\n",
      "(40, 'Pose Detection', 0.4215748548389952, 49.94083551086298)\n",
      "(41, 'Pose Detection', 0.4215748548389952, 48.98724215963739)\n",
      "(42, 'Pose Detection', 0.4215748548389952, 48.1296512063471)\n",
      "(43, 'Pose Detection', 0.4215748548389952, 47.36424383743063)\n",
      "(44, 'Pose Detection', 0.4215748548389952, 46.663692189130494)\n",
      "(45, 'Pose Detection', 0.4215748548389952, 46.0430161299662)\n",
      "(46, 'Pose Detection', 0.4215748548389952, 45.47750673916722)\n",
      "(47, 'Pose Detection', 0.4215748548389952, 44.985492197542264)\n",
      "(48, 'Pose Detection', 0.4215748548389952, 44.62963005338899)\n",
      "(49, 'Pose Detection', 0.4215748548389952, 44.27694757079845)\n",
      "(50, 'Pose Detection', 0.4215748548389952, 43.89048564068314)\n",
      "(51, 'Pose Detection', 0.4215748548389952, 43.69690839956809)\n",
      "(52, 'Pose Detection', 0.4215748548389952, 43.39558610521305)\n",
      "(53, 'Pose Detection', 0.4215748548389952, 43.13948567392028)\n",
      "(54, 'Pose Detection', 0.4215748548389952, 42.98547719473307)\n",
      "(55, 'Pose Detection', 0.4215748548389952, 42.87853375669026)\n",
      "(56, 'Pose Detection', 0.4215748548389952, 42.878318157267074)\n",
      "(57, 'Pose Detection', 0.4215748548389952, 42.702244110781365)\n",
      "(58, 'Pose Detection', 0.4215748548389952, 42.48745737666909)\n",
      "(59, 'Pose Detection', 0.4215748548389952, 42.34905486808368)\n",
      "(60, 'Pose Detection', 0.4215748548389952, 42.20972712895066)\n",
      "(61, 'Pose Detection', 0.4215748548389952, 42.1057104248658)\n",
      "(62, 'Pose Detection', 0.4215748548389952, 42.04608522755514)\n",
      "(63, 'Pose Detection', 0.4215748548389952, 42.15579584862015)\n",
      "(64, 'Pose Detection', 0.4215748548389952, 42.15005216961855)\n",
      "(65, 'Pose Detection', 0.4215748548389952, 42.199020501015404)\n",
      "(66, 'Pose Detection', 0.4215748548389952, 42.18546744113238)\n",
      "(67, 'Pose Detection', 0.4215748548389952, 42.18985888672416)\n",
      "(68, 'Pose Detection', 0.4215748548389952, 42.12273496256482)\n",
      "(69, 'Pose Detection', 0.4215748548389952, 42.10902352534697)\n",
      "(70, 'Pose Detection', 0.4215748548389952, 42.076872817746)\n",
      "(71, 'Pose Detection', 0.4215748548389952, 42.086695102647575)\n",
      "(72, 'Pose Detection', 0.4215748548389952, 42.09997787790296)\n",
      "(73, 'Pose Detection', 0.4215748548389952, 42.18591835125346)\n",
      "(74, 'Pose Detection', 0.4215748548389952, 42.17073073093409)\n",
      "(75, 'Pose Detection', 0.4215748548389952, 42.081497129799)\n",
      "(76, 'Pose Detection', 0.4215748548389952, 42.098357333077615)\n",
      "(77, 'Pose Detection', 0.4215748548389952, 42.094863935397534)\n",
      "(78, 'Pose Detection', 0.4215748548389952, 42.15748548389952)\n"
     ]
    }
   ],
   "source": [
    "# Step 4: Verify\n",
    "cursor.execute(\"SELECT * FROM results\")\n",
    "for row in cursor.fetchall():\n",
    "    print(row)"
   ]
  },
  {
   "cell_type": "code",
   "execution_count": 13,
   "id": "c7dbdd10-f5cc-43cc-b8b0-606fb223685b",
   "metadata": {},
   "outputs": [],
   "source": [
    "conn.close()"
   ]
  },
  {
   "cell_type": "code",
   "execution_count": null,
   "id": "4603b5f6-6a45-414d-b281-280d9052097c",
   "metadata": {},
   "outputs": [],
   "source": []
  },
  {
   "cell_type": "code",
   "execution_count": null,
   "id": "3a842ad1-03b3-4b4d-9e00-a8e7e9f43235",
   "metadata": {},
   "outputs": [],
   "source": []
  }
 ],
 "metadata": {
  "kernelspec": {
   "display_name": "Python [conda env:base] *",
   "language": "python",
   "name": "conda-base-py"
  },
  "language_info": {
   "codemirror_mode": {
    "name": "ipython",
    "version": 3
   },
   "file_extension": ".py",
   "mimetype": "text/x-python",
   "name": "python",
   "nbconvert_exporter": "python",
   "pygments_lexer": "ipython3",
   "version": "3.12.7"
  }
 },
 "nbformat": 4,
 "nbformat_minor": 5
}
